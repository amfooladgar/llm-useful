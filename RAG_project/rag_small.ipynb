{
 "cells": [
  {
   "cell_type": "markdown",
   "id": "fef99255",
   "metadata": {},
   "source": [
    "# RAG - matching mechanism with few-shot prompting"
   ]
  },
  {
   "cell_type": "code",
   "execution_count": 1,
   "id": "613567ec",
   "metadata": {},
   "outputs": [
    {
     "name": "stdout",
     "output_type": "stream",
     "text": [
      "Based on the context, the answer to 'Who created the Python programming language?' is: Guido van Rossum.\n"
     ]
    }
   ],
   "source": [
    "# Sample documents (knowledge base)\n",
    "docs = [\n",
    "    \"Python is a popular programming language created by Guido van Rossum.\",\n",
    "    \"RAG combines an LLM with a retriever to ground responses in external knowledge.\"\n",
    "]\n",
    "\n",
    "# User query\n",
    "question = \"Who created the Python programming language?\"\n",
    "\n",
    "# --- Retriever ---\n",
    "from sklearn.feature_extraction.text import TfidfVectorizer\n",
    "import numpy as np\n",
    "\n",
    "vectorizer = TfidfVectorizer().fit(docs)\n",
    "doc_vectors = vectorizer.transform(docs)\n",
    "query_vector = vectorizer.transform([question])\n",
    "scores = (doc_vectors * query_vector.T).toarray().ravel()\n",
    "top_doc = docs[scores.argmax()]\n",
    "\n",
    "# --- Generator (simulated) ---\n",
    "def simple_generator(query, context):\n",
    "    return f\"Based on the context, the answer to '{query}' is: Guido van Rossum.\"\n",
    "\n",
    "# Generate answer\n",
    "context = top_doc\n",
    "response = simple_generator(question, context)\n",
    "print(response)"
   ]
  },
  {
   "cell_type": "code",
   "execution_count": null,
   "id": "e63bbdc8",
   "metadata": {},
   "outputs": [],
   "source": []
  }
 ],
 "metadata": {
  "kernelspec": {
   "display_name": ".venv",
   "language": "python",
   "name": "python3"
  },
  "language_info": {
   "codemirror_mode": {
    "name": "ipython",
    "version": 3
   },
   "file_extension": ".py",
   "mimetype": "text/x-python",
   "name": "python",
   "nbconvert_exporter": "python",
   "pygments_lexer": "ipython3",
   "version": "3.9.6"
  }
 },
 "nbformat": 4,
 "nbformat_minor": 5
}
