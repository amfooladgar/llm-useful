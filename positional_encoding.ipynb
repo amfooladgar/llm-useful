{
 "cells": [
  {
   "cell_type": "markdown",
   "id": "11e3ea7e",
   "metadata": {},
   "source": [
    "# Positional Encoding"
   ]
  },
  {
   "cell_type": "markdown",
   "id": "90a61f78",
   "metadata": {},
   "source": [
    "## Absolute\n",
    "a simple NumPy implementation that generates sinusoidal positional encodings for any sequence length and embedding size"
   ]
  },
  {
   "cell_type": "code",
   "execution_count": 1,
   "id": "590ccd84",
   "metadata": {},
   "outputs": [
    {
     "name": "stdout",
     "output_type": "stream",
     "text": [
      "Positional Encoding Matrix (shape: (10, 16)):\n",
      " [[ 0.00000000e+00  1.00000000e+00  0.00000000e+00  1.00000000e+00\n",
      "   0.00000000e+00  1.00000000e+00  0.00000000e+00  1.00000000e+00\n",
      "   0.00000000e+00  1.00000000e+00  0.00000000e+00  1.00000000e+00\n",
      "   0.00000000e+00  1.00000000e+00  0.00000000e+00  1.00000000e+00]\n",
      " [ 8.41470985e-01  5.40302306e-01  3.10983593e-01  9.50415280e-01\n",
      "   9.98334166e-02  9.95004165e-01  3.16175064e-02  9.99500042e-01\n",
      "   9.99983333e-03  9.99950000e-01  3.16227239e-03  9.99995000e-01\n",
      "   9.99999833e-04  9.99999500e-01  3.16227761e-04  9.99999950e-01]\n",
      " [ 9.09297427e-01 -4.16146837e-01  5.91127117e-01  8.06578410e-01\n",
      "   1.98669331e-01  9.80066578e-01  6.32033979e-02  9.98000667e-01\n",
      "   1.99986667e-02  9.99800007e-01  6.32451316e-03  9.99980000e-01\n",
      "   1.99999867e-03  9.99998000e-01  6.32455490e-04  9.99999800e-01]\n",
      " [ 1.41120008e-01 -9.89992497e-01  8.12648897e-01  5.82753611e-01\n",
      "   2.95520207e-01  9.55336489e-01  9.47260913e-02  9.95503374e-01\n",
      "   2.99955002e-02  9.99550034e-01  9.48669068e-03  9.99955000e-01\n",
      "   2.99999550e-03  9.99995500e-01  9.48683156e-04  9.99999550e-01]\n",
      " [-7.56802495e-01 -6.53643621e-01  9.53580740e-01  3.01137463e-01\n",
      "   3.89418342e-01  9.21060994e-01  1.26154067e-01  9.92010661e-01\n",
      "   3.99893342e-02  9.99200107e-01  1.26487733e-02  9.99920001e-01\n",
      "   3.99998933e-03  9.99992000e-01  1.26491073e-03  9.99999200e-01]\n",
      " [-9.58924275e-01  2.83662185e-01  9.99946517e-01 -1.03423189e-02\n",
      "   4.79425539e-01  8.77582562e-01  1.57455898e-01  9.87526020e-01\n",
      "   4.99791693e-02  9.98750260e-01  1.58107295e-02  9.99875003e-01\n",
      "   4.99997917e-03  9.99987500e-01  1.58113817e-03  9.99998750e-01]\n",
      " [-2.79415498e-01  9.60170287e-01  9.47148158e-01 -3.20796458e-01\n",
      "   5.64642473e-01  8.25335615e-01  1.88600287e-01  9.82053935e-01\n",
      "   5.99640065e-02  9.98200540e-01  1.89725276e-02  9.99820005e-01\n",
      "   5.99996400e-03  9.99982000e-01  1.89736546e-03  9.99998200e-01]\n",
      " [ 6.56986599e-01  7.53902254e-01  8.00421646e-01 -5.99437393e-01\n",
      "   6.44217687e-01  7.64842187e-01  2.19556091e-01  9.75599878e-01\n",
      "   6.99428473e-02  9.97551000e-01  2.21341359e-02  9.99755010e-01\n",
      "   6.99994283e-03  9.99975500e-01  2.21359255e-03  9.99997550e-01]\n",
      " [ 9.89358247e-01 -1.45500034e-01  5.74317769e-01 -8.18632457e-01\n",
      "   7.17356091e-01  6.96706709e-01  2.50292358e-01  9.68170303e-01\n",
      "   7.99146940e-02  9.96801706e-01  2.52955229e-02  9.99680017e-01\n",
      "   7.99991467e-03  9.99968000e-01  2.52981943e-03  9.99996800e-01]\n",
      " [ 4.12118485e-01 -9.11130262e-01  2.91259121e-01 -9.56644200e-01\n",
      "   7.83326910e-01  6.21609968e-01  2.80778353e-01  9.59772638e-01\n",
      "   8.98785492e-02  9.95952733e-01  2.84566569e-02  9.99595027e-01\n",
      "   8.99987850e-03  9.99959500e-01  2.84604605e-03  9.99995950e-01]]\n"
     ]
    }
   ],
   "source": [
    "import numpy as np\n",
    "\n",
    "def get_positional_encoding(max_len, d_model):\n",
    "    pos = np.arange(max_len)[:, np.newaxis]\n",
    "    i = np.arange(d_model)[np.newaxis, :]\n",
    "    angle_rates = 1 / np.power(10000, (2 * (i // 2)) / d_model)\n",
    "    angle_rads = pos * angle_rates  # shape: (max_len, d_model)\n",
    "    pe = np.zeros((max_len, d_model))\n",
    "    pe[:, 0::2] = np.sin(angle_rads[:, 0::2])\n",
    "    pe[:, 1::2] = np.cos(angle_rads[:, 1::2])\n",
    "\n",
    "    return pe\n",
    "\n",
    "# Sample usage\n",
    "max_len = 10       # Number of positions (sequence length)\n",
    "d_model = 16       # Embedding dimension\n",
    "pe_matrix = get_positional_encoding(max_len, d_model)\n",
    "\n",
    "# Print the positional encoding matrix\n",
    "print(\"Positional Encoding Matrix (shape: {}):\\n\".format(pe_matrix.shape), pe_matrix)"
   ]
  },
  {
   "cell_type": "code",
   "execution_count": null,
   "id": "a4b735d4",
   "metadata": {},
   "outputs": [],
   "source": []
  }
 ],
 "metadata": {
  "kernelspec": {
   "display_name": ".venv",
   "language": "python",
   "name": "python3"
  },
  "language_info": {
   "codemirror_mode": {
    "name": "ipython",
    "version": 3
   },
   "file_extension": ".py",
   "mimetype": "text/x-python",
   "name": "python",
   "nbconvert_exporter": "python",
   "pygments_lexer": "ipython3",
   "version": "3.9.6"
  }
 },
 "nbformat": 4,
 "nbformat_minor": 5
}
