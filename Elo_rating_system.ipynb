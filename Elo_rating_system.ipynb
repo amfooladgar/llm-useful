{
 "cells": [
  {
   "cell_type": "markdown",
   "id": "31be506c",
   "metadata": {},
   "source": [
    "# Elo rating system"
   ]
  },
  {
   "cell_type": "code",
   "execution_count": 4,
   "id": "3eec9748",
   "metadata": {},
   "outputs": [],
   "source": [
    "from collections import defaultdict\n",
    "import pandas as pd\n",
    "\n",
    "# Initialize Elo ratings for each model (default 1000 for new models)\n",
    "ratings = defaultdict(lambda: 1000)\n",
    "K = 32  # K-factor controls how big the updates are\n",
    "df = pd.read_csv('elo_ratings.csv')\n",
    "# Iterate through each pairwise comparison result\n",
    "for idx, row in df.iterrows():\n",
    "    model_a = row['model_a']\n",
    "    model_b = row['model_b']\n",
    "    winner = row['winner']\n",
    "    \n",
    "    # Current ratings of model A and model B\n",
    "    Ra = ratings[model_a]\n",
    "    Rb = ratings[model_b]\n",
    "    \n",
    "    # Compute expected win probabilities for A and B\n",
    "    Ea = 1 / (1 + 10 ** ((Rb - Ra) / 400))\n",
    "    Eb = 1 / (1 + 10 ** ((Ra - Rb) / 400))\n",
    "    \n",
    "    # Determine actual score for A and B based on the winner\n",
    "    if winner == model_a:\n",
    "        Sa, Sb = 1.0, 0.0   # A wins, B loses\n",
    "    elif winner == model_b:\n",
    "        Sa, Sb = 0.0, 1.0   # A loses, B wins\n",
    "    else:\n",
    "        Sa, Sb = 0.5, 0.5   # tie scenario\n",
    "    \n",
    "    # Update Elo ratings for both models\n",
    "    ratings[model_a] = Ra + K * (Sa - Ea)\n",
    "    ratings[model_b] = Rb + K * (Sb - Eb)"
   ]
  },
  {
   "cell_type": "code",
   "execution_count": 5,
   "id": "5cbf03ce",
   "metadata": {},
   "outputs": [
    {
     "data": {
      "text/plain": [
       "defaultdict(<function __main__.<lambda>()>,\n",
       "            {'GPT-4': 1015.3991542567205,\n",
       "             'Claude': 1000.6684908377623,\n",
       "             'LLaMA': 999.1995875226886,\n",
       "             'GPT-3.5': 984.7327673828286})"
      ]
     },
     "execution_count": 5,
     "metadata": {},
     "output_type": "execute_result"
    }
   ],
   "source": [
    "ratings"
   ]
  },
  {
   "cell_type": "code",
   "execution_count": null,
   "id": "e60984e1",
   "metadata": {},
   "outputs": [],
   "source": []
  }
 ],
 "metadata": {
  "kernelspec": {
   "display_name": ".venv",
   "language": "python",
   "name": "python3"
  },
  "language_info": {
   "codemirror_mode": {
    "name": "ipython",
    "version": 3
   },
   "file_extension": ".py",
   "mimetype": "text/x-python",
   "name": "python",
   "nbconvert_exporter": "python",
   "pygments_lexer": "ipython3",
   "version": "3.9.6"
  }
 },
 "nbformat": 4,
 "nbformat_minor": 5
}
