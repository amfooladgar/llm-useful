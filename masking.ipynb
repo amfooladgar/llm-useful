{
 "cells": [
  {
   "cell_type": "markdown",
   "id": "93ddbc70",
   "metadata": {},
   "source": [
    "# Masking - Padding & Causal"
   ]
  },
  {
   "cell_type": "code",
   "execution_count": null,
   "id": "059b7590",
   "metadata": {},
   "outputs": [
    {
     "name": "stdout",
     "output_type": "stream",
     "text": [
      "tensor([[[[-1.1998,  1.9379,  0.9745,  1.2977],\n",
      "          [-1.7988, -0.2572, -0.2075,  0.0357],\n",
      "          [-1.1958,  0.0931, -0.2877, -0.1243],\n",
      "          [ 1.1242,  0.7390, -0.8619,  1.4292]]],\n",
      "\n",
      "\n",
      "        [[[ 0.6675, -0.3088,  0.9850,    -inf],\n",
      "          [-0.5726,  0.8000,  0.2615,    -inf],\n",
      "          [ 0.1241, -1.2276,  0.6263,    -inf],\n",
      "          [ 0.2646,  0.6870, -0.2516,    -inf]]]])\n"
     ]
    }
   ],
   "source": [
    "# Padding example in PyTorch\n",
    "import torch\n",
    "\n",
    "# Padded token sequences\n",
    "input_ids = torch.tensor([\n",
    "    [1, 2, 3, 4],     # Sentence A\n",
    "    [5, 6, 7, 0]      # Sentence B, padded with <PAD>\n",
    "])\n",
    "\n",
    "# Boolean padding mask: 1 = real token, 0 = padding\n",
    "padding_mask = (input_ids != 0)\n",
    "\n",
    "# Result:\n",
    "# [[1, 1, 1, 1],\n",
    "#  [1, 1, 1, 0]]\n",
    "\n",
    "# Shape: (batch_size, 1, 1, seq_len)\n",
    "padding_mask = padding_mask.unsqueeze(1).unsqueeze(2) # unsqueeze in PyTorch adds a new dimension of size 1 at a specified position in a tensor's shape.\n",
    "\n",
    "# Simulated attention scores\n",
    "scores = torch.randn(2, 1, 4, 4)  # (batch=2, heads=1, seq_len=4)\n",
    "\n",
    "# Apply mask — set scores to -inf where padding_mask is False\n",
    "scores = scores.masked_fill(~padding_mask, float('-inf'))\n",
    "\n",
    "print(scores)"
   ]
  },
  {
   "cell_type": "code",
   "execution_count": null,
   "id": "a88c2854",
   "metadata": {},
   "outputs": [],
   "source": [
    "# Causal mask\n",
    "\n",
    "L = max_seq_len\n",
    "causal_mask = torch.tril(torch.ones(L, L, dtype=torch.bool))"
   ]
  },
  {
   "cell_type": "code",
   "execution_count": null,
   "id": "6ed8b3b2",
   "metadata": {},
   "outputs": [],
   "source": []
  }
 ],
 "metadata": {
  "kernelspec": {
   "display_name": ".venv",
   "language": "python",
   "name": "python3"
  },
  "language_info": {
   "codemirror_mode": {
    "name": "ipython",
    "version": 3
   },
   "file_extension": ".py",
   "mimetype": "text/x-python",
   "name": "python",
   "nbconvert_exporter": "python",
   "pygments_lexer": "ipython3",
   "version": "3.9.6"
  }
 },
 "nbformat": 4,
 "nbformat_minor": 5
}
