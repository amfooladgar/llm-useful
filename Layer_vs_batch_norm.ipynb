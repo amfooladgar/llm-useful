{
 "cells": [
  {
   "cell_type": "markdown",
   "id": "047ed4df",
   "metadata": {},
   "source": [
    "# LN vs BN:"
   ]
  },
  {
   "cell_type": "code",
   "execution_count": 1,
   "id": "3747d9cf",
   "metadata": {},
   "outputs": [
    {
     "name": "stdout",
     "output_type": "stream",
     "text": [
      "BatchNorm output:\n",
      " [[-0.99998 -0.99998 -0.99998 -0.99998]\n",
      " [ 0.99998  0.99998  0.99998  0.99998]]\n",
      "LayerNorm output:\n",
      " [[-1.34163542 -0.44721181  0.44721181  1.34163542]\n",
      " [-1.34163542 -0.44721181  0.44721181  1.34163542]]\n"
     ]
    }
   ],
   "source": [
    "import numpy as np\n",
    "\n",
    "# Toy input: batch of 2 samples, each with 4 features\n",
    "x = np.array([[1.0, 2.0, 3.0, 4.0],\n",
    "              [2.0, 3.0, 4.0, 5.0]])\n",
    "\n",
    "# -- Batch Normalization (per-feature across batch) --\n",
    "mean_batch = np.mean(x, axis=0)             # Compute mean for each feature across samples\n",
    "var_batch  = np.var(x, axis=0)              # Compute variance for each feature\n",
    "x_norm_bn  = (x - mean_batch) / np.sqrt(var_batch + 1e-5)\n",
    "\n",
    "# -- Layer Normalization (per-sample across features) --\n",
    "mean_layer = np.mean(x, axis=1, keepdims=True)  # Mean of each sample\n",
    "var_layer  = np.var(x, axis=1, keepdims=True)   # Variance of each sample\n",
    "x_norm_ln  = (x - mean_layer) / np.sqrt(var_layer + 1e-5)\n",
    "\n",
    "print(\"BatchNorm output:\\n\", x_norm_bn)\n",
    "print(\"LayerNorm output:\\n\", x_norm_ln)"
   ]
  },
  {
   "cell_type": "code",
   "execution_count": null,
   "id": "da029871",
   "metadata": {},
   "outputs": [],
   "source": []
  }
 ],
 "metadata": {
  "kernelspec": {
   "display_name": ".venv",
   "language": "python",
   "name": "python3"
  },
  "language_info": {
   "codemirror_mode": {
    "name": "ipython",
    "version": 3
   },
   "file_extension": ".py",
   "mimetype": "text/x-python",
   "name": "python",
   "nbconvert_exporter": "python",
   "pygments_lexer": "ipython3",
   "version": "3.9.6"
  }
 },
 "nbformat": 4,
 "nbformat_minor": 5
}
