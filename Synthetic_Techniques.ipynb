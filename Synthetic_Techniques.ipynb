{
 "cells": [
  {
   "cell_type": "markdown",
   "id": "c9e79c66",
   "metadata": {},
   "source": [
    "# SMOTE: Synthetic Minority Oversampling Technique"
   ]
  },
  {
   "cell_type": "code",
   "execution_count": 2,
   "id": "1f3e073f",
   "metadata": {},
   "outputs": [
    {
     "name": "stdout",
     "output_type": "stream",
     "text": [
      "Before SMOTE: 0    947\n",
      "1     53\n",
      "Name: count, dtype: int64\n",
      "After SMOTE: 0    947\n",
      "1    947\n",
      "Name: count, dtype: int64\n"
     ]
    }
   ],
   "source": [
    "from sklearn.datasets import make_classification\n",
    "from imblearn.over_sampling import SMOTE\n",
    "import pandas as pd\n",
    "\n",
    "X, y = make_classification(n_samples=1000, n_features=10, weights=[0.95, 0.05], random_state=42)\n",
    "print(\"Before SMOTE:\", pd.Series(y).value_counts())\n",
    "\n",
    "sm = SMOTE(random_state=42)\n",
    "X_res, y_res = sm.fit_resample(X, y)\n",
    "\n",
    "print(\"After SMOTE:\", pd.Series(y_res).value_counts())"
   ]
  },
  {
   "cell_type": "markdown",
   "id": "b5c26ce3",
   "metadata": {},
   "source": [
    "# CTGAN (conditional tabular GAN)"
   ]
  }
 ],
 "metadata": {
  "kernelspec": {
   "display_name": ".venv",
   "language": "python",
   "name": "python3"
  },
  "language_info": {
   "codemirror_mode": {
    "name": "ipython",
    "version": 3
   },
   "file_extension": ".py",
   "mimetype": "text/x-python",
   "name": "python",
   "nbconvert_exporter": "python",
   "pygments_lexer": "ipython3",
   "version": "3.9.6"
  }
 },
 "nbformat": 4,
 "nbformat_minor": 5
}
